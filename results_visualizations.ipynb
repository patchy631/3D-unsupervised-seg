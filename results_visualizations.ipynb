{
 "cells": [
  {
   "cell_type": "code",
   "execution_count": 1,
   "id": "79ede9d9-7d7e-441c-9dcc-39e4315463ba",
   "metadata": {},
   "outputs": [],
   "source": [
    "import numpy as np\n",
    "import laspy as lp\n",
    "import pptk\n",
    "from pyproj import Proj, transform\n",
    "import matplotlib.pyplot as plt\n",
    "import pandas as pd \n",
    "from sklearn import metrics\n",
    "from sklearn.cluster import DBSCAN\n",
    "from scipy import stats\n",
    "import scipy\n",
    "import seaborn as sns\n",
    "from sklearn.mixture import GaussianMixture"
   ]
  },
  {
   "cell_type": "code",
   "execution_count": 2,
   "id": "29d043a4-9ba5-4e1d-80fc-6dcb66e3ae3c",
   "metadata": {},
   "outputs": [],
   "source": [
    "def diagnostic_plots(variable):\n",
    "    # function takes a dataframe (df) and\n",
    "    # the variable of interest as arguments\n",
    "\n",
    "    # define figure size\n",
    "    plt.figure(figsize=(16, 4))\n",
    "\n",
    "    # histogram\n",
    "    plt.subplot(1, 3, 1)\n",
    "    sns.histplot(variable, bins=100)\n",
    "    plt.title('Histogram')\n",
    "\n",
    "    # Q-Q plot\n",
    "    plt.subplot(1, 3, 2)\n",
    "    stats.probplot(variable, dist=\"norm\", plot=plt)\n",
    "    plt.ylabel('RM quantiles')\n",
    "\n",
    "    # boxplot\n",
    "    plt.subplot(1, 3, 3)\n",
    "    sns.boxplot(y=variable)\n",
    "    plt.title('Boxplot')\n",
    "\n",
    "    plt.show()"
   ]
  },
  {
   "cell_type": "code",
   "execution_count": 3,
   "id": "01fa0d33-9a1c-495a-abcc-cc3ea99227c6",
   "metadata": {},
   "outputs": [],
   "source": [
    "def get_ideal_num_clusters(X):\n",
    "    bic_scores = []\n",
    "    for i in range(1, 6):\n",
    "        gm = GaussianMixture(n_components=i, random_state=0).fit(np.expand_dims(X, axis=-1))\n",
    "        bic = gm.score(np.expand_dims(X, axis=-1))\n",
    "        bic_scores.append(bic)\n",
    "        print(f'bic score is {bic} for {i} clusters')\n",
    "    return np.argmin(bic_scores) + 1     "
   ]
  },
  {
   "cell_type": "code",
   "execution_count": 4,
   "id": "210140e3-255d-4ddb-b429-e46ca223f6f1",
   "metadata": {},
   "outputs": [],
   "source": [
    "def intensity_diff(i1, i2):\n",
    "    return abs(i1-i2)\n",
    "\n",
    "def cluster(list_intensities, epsilon, min_samples):\n",
    "    dist_matrix = scipy.spatial.distance.pdist(list_intensities, metric=intensity_diff).astype(np.float16)\n",
    "    dist_matrix = scipy.spatial.distance.squareform(dist_matrix)\n",
    "    db = DBSCAN(eps=epsilon, min_samples=min_samples, algorithm='auto', metric='precomputed').fit(dist_matrix)\n",
    "    cluster_labels = db.labels_\n",
    "    return cluster_labels"
   ]
  },
  {
   "cell_type": "code",
   "execution_count": 5,
   "id": "4d1df861-82bb-4ef0-8ef0-afa8a032bc3b",
   "metadata": {},
   "outputs": [],
   "source": [
    "def make_df(point_cloud):\n",
    "    arr = point_cloud.points.array\n",
    "    columns = list(dict(arr.dtype.fields).keys())\n",
    "    l = list((map(lambda x: list(x), arr[::10])))\n",
    "    df = pd.DataFrame(l, columns =columns)\n",
    "    df.to_csv('records.csv', index=False)"
   ]
  },
  {
   "cell_type": "code",
   "execution_count": 6,
   "id": "63b73335-8287-4f78-9387-4378c8ddff08",
   "metadata": {},
   "outputs": [],
   "source": [
    "def visualize_pointcloud(param):\n",
    "    points, intensities, labels = read_df()\n",
    "    if param == 'intensity':\n",
    "        intensities = np.clip(intensities, a_min = 1, a_max=255)\n",
    "        max_intensity = max(intensities)\n",
    "        colors = plt.get_cmap(\"tab20\")(intensities / (max_intensity if max_intensity > 0 else 1))[:,:-1]\n",
    "    else:\n",
    "        max_label = max(labels)\n",
    "        colors = plt.get_cmap(\"tab20\")(labels / (max_label if max_label > 0 else 1))[:,:-1]\n",
    "    v = pptk.viewer(points)\n",
    "    v.attributes(colors)"
   ]
  },
  {
   "cell_type": "code",
   "execution_count": 16,
   "id": "e34967d6-f000-428a-adfc-09e1e94f3359",
   "metadata": {},
   "outputs": [],
   "source": [
    "def read_df():\n",
    "    df = pd.read_csv('data/records.csv', usecols=['X', 'Y', 'Z', 'intensity', 'raw_classification'])\n",
    "    arr = df.to_numpy()\n",
    "    points = arr[:, :3]/1000\n",
    "    intensities = arr[:, 3]\n",
    "    labels = arr[:,4]\n",
    "    return points, intensities, labels"
   ]
  },
  {
   "cell_type": "code",
   "execution_count": 19,
   "id": "90786028-0b7d-4100-a214-7139bf35770e",
   "metadata": {},
   "outputs": [],
   "source": [
    "def read_df_ground_points():\n",
    "    df = pd.read_csv('data/records.csv', usecols=['X', 'Y', 'Z', 'intensity', 'raw_classification'])\n",
    "    pcd = o3d.io.read_point_cloud('')\n",
    "    arr = df.to_numpy()[::10]\n",
    "    labels = arr[:, -1]\n",
    "    points = arr[:, :3] / 1000\n",
    "    intensities = arr[:, 3]\n",
    "    points = points[labels == 2]\n",
    "    intensities = intensities[labels == 2]\n",
    "    pcd.points.extend(points)\n",
    "    inten_labels = GaussianMixture(n_components=3, random_state=0).fit_predict(np.expand_dims(intensities, axis=-1))\n",
    "    return pcd, inten_labels, labels"
   ]
  },
  {
   "cell_type": "code",
   "execution_count": 8,
   "id": "f4848c07-9926-47b9-979a-81b664e3e52c",
   "metadata": {},
   "outputs": [],
   "source": [
    "def plot_hist(arr):\n",
    "    # todo add more functionality   \n",
    "    plt.hist(arr[:,-1], bins=20)\n",
    "    pass"
   ]
  },
  {
   "cell_type": "code",
   "execution_count": 9,
   "id": "1e954568-fae3-456e-af44-c7fc4c0a5280",
   "metadata": {},
   "outputs": [],
   "source": [
    "def get_factored_points(points, factor):\n",
    "    return points[::factor]"
   ]
  },
  {
   "cell_type": "code",
   "execution_count": 10,
   "id": "599895b2-a0d7-44ff-8748-a29a6d0a6e2e",
   "metadata": {},
   "outputs": [],
   "source": [
    "def write_las_file(file_path, points):\n",
    "    header = lp.header.LasHeader()\n",
    "    las_data = lp.lasdata.LasData(header)\n",
    "    las_data.x = points[:,0]\n",
    "    las_data.y = points[:,1]\n",
    "    las_data.Z = points[:,2]\n",
    "    las_data.write(file_path)"
   ]
  },
  {
   "cell_type": "code",
   "execution_count": 11,
   "id": "ddb5b7df-b582-491b-91d8-69eb8c83aa8b",
   "metadata": {},
   "outputs": [],
   "source": [
    "def group_into_grids(points):\n",
    "    pt_cloud_grids = []\n",
    "    sorted_by_x = points[np.argsort(points[:,0])]\n",
    "    splits_along_x = np.array_split(sorted_by_x, 10)\n",
    "    for split in splits_along_x:\n",
    "        sorted_by_y = split[np.argsort(split[:,1])]\n",
    "        splits_along_y = np.array_split(sorted_by_y, 10)\n",
    "        pt_cloud_grids.extend(splits_along_y)\n",
    "    return pt_cloud_grids  "
   ]
  },
  {
   "cell_type": "code",
   "execution_count": 12,
   "id": "76ce1bb9-41f1-4e0d-af83-b133eb672a9d",
   "metadata": {},
   "outputs": [],
   "source": [
    "def visualize_classes(class_val):\n",
    "    '''\n",
    "    class val can be one of:\n",
    "    {1, 2, 6, 9, 26}\n",
    "    '''\n",
    "    points_o, intensities_o, labels_o = read_df()\n",
    "    points = points_o[labels_o==class_val]\n",
    "    labels = labels_o[labels_o==class_val]\n",
    "    intensities = intensities_o[labels_o==class_val]\n",
    "    max_label = max(labels)\n",
    "    colors = plt.get_cmap(\"tab20\")(labels / (max_label if max_label > 0 else 1))[:,:-1]\n",
    "    v = pptk.viewer(points)\n",
    "    v.attributes(colors)\n",
    "    return points, labels, intensities"
   ]
  },
  {
   "cell_type": "code",
   "execution_count": 17,
   "id": "58e60721-c885-487e-a4da-d327e41184b8",
   "metadata": {},
   "outputs": [],
   "source": [
    "def segment_trees_and_buildings():\n",
    "    \"\"\"\n",
    "    Segments non ground points by doing a segregation based on intensity\n",
    "    using Gaussing mixture model.\n",
    "    Assumption: We mainly have trees and buildings as non ground objects\n",
    "    and their LiDAR intensities come from 2 different distributions.\n",
    "    :return: None\n",
    "    \"\"\"\n",
    "    points_o, intensities_o, labels_o = read_df()\n",
    "    heights = points_o[:,2]\n",
    "    points = points_o[heights > 8]\n",
    "    intensities = intensities_o[heights > 8]\n",
    "    labels = GaussianMixture(n_components=2, random_state=0).fit_predict(np.expand_dims(intensities, axis=-1))\n",
    "    max_label = max(labels)\n",
    "    colors = plt.get_cmap(\"tab20\")(labels / (max_label if max_label > 0 else 1))[:, :-1]\n",
    "    v = pptk.viewer(points)\n",
    "    v.attributes(colors)"
   ]
  },
  {
   "cell_type": "code",
   "execution_count": 23,
   "id": "196d9fbe-b005-4040-888f-a571db602d83",
   "metadata": {},
   "outputs": [],
   "source": [
    "def fit_multiple_horizontal_planes(num_planes):\n",
    "    \"\"\"\n",
    "    colorize the point cloud accross multiple horizontal planes\n",
    "    thru it\n",
    "    :param num_planes: number of planes or horizontal sections\n",
    "    :return:\n",
    "    \"\"\"\n",
    "    points_o, intensities_o, labels_o = read_df()\n",
    "    heights = points_o[:, -1]\n",
    "    intervals = np.linspace(int(np.min(heights)), int(np.max(heights)), num_planes)\n",
    "    color_labels = np.zeros((len(points_o),))\n",
    "    for i in range(len(intervals) - 1):\n",
    "        mask = np.bitwise_and((intervals[i] < heights), (heights < intervals[i + 1]))\n",
    "        args_filtered = np.argwhere(mask)\n",
    "        color_labels[args_filtered] = i\n",
    "    max_label = np.max(color_labels)\n",
    "    colors = plt.get_cmap(\"tab20\")(color_labels / (max_label if max_label > 0 else 1))[:, :-1]\n",
    "    v = pptk.viewer(points_o)\n",
    "    v.attributes(colors)"
   ]
  },
  {
   "cell_type": "markdown",
   "id": "8cf0a4f6-b014-49c3-b0be-973ee3f05d73",
   "metadata": {},
   "source": [
    "### Segmentation of non-ground entities i.e. buildings and Trees"
   ]
  },
  {
   "cell_type": "code",
   "execution_count": 18,
   "id": "fd3a155c-3130-4be5-bdac-9247424caac1",
   "metadata": {},
   "outputs": [],
   "source": [
    "segment_trees_and_buildings()"
   ]
  },
  {
   "cell_type": "markdown",
   "id": "c53f2ffa-fe7e-446b-b01f-58fbd1343839",
   "metadata": {},
   "source": [
    "### RANSAC based plain fitting thru ground points"
   ]
  },
  {
   "cell_type": "code",
   "execution_count": 22,
   "id": "2c24150d-d417-4611-ae64-21d82d953660",
   "metadata": {},
   "outputs": [
    {
     "name": "stdout",
     "output_type": "stream",
     "text": [
      "\u001b[1;33m[Open3D WARNING] Read geometry::PointCloud failed: unknown file extension for  (format: auto).\u001b[0;m\n",
      "pass 0 / 10 done.\n",
      "pass 1 / 10 done.\n",
      "pass 2 / 10 done.\n",
      "pass 3 / 10 done.\n",
      "pass 4 / 10 done.\n",
      "pass 5 / 10 done.\n",
      "pass 6 / 10 done.\n",
      "pass 7 / 10 done.\n",
      "pass 8 / 10 done.\n",
      "pass 9 / 10 done.\n",
      "RANSAC_loop_visualization\n"
     ]
    }
   ],
   "source": [
    "# This takes a little time :)\n",
    "import ransac_seg\n",
    "ransac_seg.main()"
   ]
  },
  {
   "cell_type": "markdown",
   "id": "1173e24f-4ca4-428a-a95a-c2e68615fe26",
   "metadata": {},
   "source": [
    "### Horizontal plain (z = k) fittinng and colorization"
   ]
  },
  {
   "cell_type": "code",
   "execution_count": 24,
   "id": "7b9a5a99-18db-4cab-8e91-5a754c43cc65",
   "metadata": {},
   "outputs": [],
   "source": [
    "fit_multiple_horizontal_planes(num_planes=15)"
   ]
  }
 ],
 "metadata": {
  "kernelspec": {
   "display_name": "env_3D",
   "language": "python",
   "name": "env_3d"
  },
  "language_info": {
   "codemirror_mode": {
    "name": "ipython",
    "version": 3
   },
   "file_extension": ".py",
   "mimetype": "text/x-python",
   "name": "python",
   "nbconvert_exporter": "python",
   "pygments_lexer": "ipython3",
   "version": "3.6.13"
  }
 },
 "nbformat": 4,
 "nbformat_minor": 5
}
